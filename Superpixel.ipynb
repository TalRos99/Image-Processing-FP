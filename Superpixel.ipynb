{
 "cells": [
  {
   "cell_type": "code",
   "execution_count": 1,
   "metadata": {},
   "outputs": [],
   "source": [
    "from matplotlib.image import imread\n",
    "import numpy as np\n",
    "import matplotlib.pyplot as plt"
   ]
  },
  {
   "cell_type": "code",
   "execution_count": 2,
   "metadata": {},
   "outputs": [],
   "source": [
    "class DistanceCluster:\n",
    "    def __init__(self, img) -> None:\n",
    "        m, n, _ = img.shape\n",
    "        self.D = np.zeros((m, n))\n",
    "        self.L = -np.ones((m, n))\n",
    "        self.D[:, :] = np.inf\n",
    "\n",
    "class Superpixels:\n",
    "    def __init__(self, img, n_sp) -> None:\n",
    "        self.img = img\n",
    "        n_tp = self.img.shape[0] * self.img.shape[1]  # * img.shape[2]\n",
    "        self.s = int((n_tp / n_sp) ** 0.5)\n",
    "        self.DL = DistanceCluster(self.img)\n",
    "        self.threshold = 10\n",
    "\n",
    "    # Step 1\n",
    "\n",
    "    def _calculate_lowest_gradient_position(self, image, x, y):\n",
    "        x_start = max(x - 1, 0)\n",
    "        x_end = min(x + 1, image.shape[1] - 1)\n",
    "        y_start = max(y - 1, 0)\n",
    "        y_end = min(y + 1, image.shape[0] - 1)\n",
    "\n",
    "        neighborhood = image[y_start:y_end + 1, x_start:x_end + 1]\n",
    "\n",
    "        pixel1 = np.expand_dims(image[y, x], axis=0)\n",
    "        differences = np.sum(np.abs(neighborhood - pixel1), axis=2)\n",
    "        min_y, min_x = np.unravel_index(np.argmin(differences), differences.shape)\n",
    "        min_x += x_start\n",
    "        min_y += y_start\n",
    "\n",
    "        return min_x, min_y\n",
    "\n",
    "\n",
    "    def _calculate_gradient(self, image, x1, y1, x2, y2):\n",
    "        # Get the RGB values of the two pixels\n",
    "        pixel1 = image[y1, x1]\n",
    "        pixel2 = image[y2, x2]\n",
    "\n",
    "        # Calculate the gradient as the sum of absolute differences of RGB values\n",
    "        gradient = np.sum(np.abs(pixel1 - pixel2))\n",
    "\n",
    "        return gradient\n",
    "\n",
    "    def _initialize_algo(self):\n",
    "        # The function creates the centers list\n",
    "        m_list = []\n",
    "        # finding the pixels with s distance\n",
    "        x = [l % self.img.shape[0] for l in range(self.s, self.img.shape[0], self.s)]\n",
    "        y = [l % self.img.shape[1] for l in range(self.s, self.img.shape[1], self.s)]\n",
    "        for i in range(len(x)):\n",
    "            for j in range(len(y)):\n",
    "                x1, y1 = self._calculate_lowest_gradient_position(self.img, x[i], y[j])\n",
    "                r, g, b = self.img[x1, y1, :3]\n",
    "                m_list.append(np.array([r, g, b, x1, y1]).T)\n",
    "        return m_list\n",
    "\n",
    "    # Step 2\n",
    "    def _calculate_distance(self, v1, v2, c=10):\n",
    "        dc = ((v1[0] - v2[0]) ** 2 + (v1[1] - v2[1]) ** 2 + (v1[2] - v2[2]) ** 2) ** 0.5\n",
    "        ds = ((v1[3] - v2[3]) ** 2 + (v1[4] - v2[4]) ** 2) ** 0.5\n",
    "        return ((dc / c) ** 2 + (ds / self.s) ** 2) ** 0.5\n",
    "    \n",
    "    def _set_neigbors_dist(self, mi, cluster):\n",
    "        x_start = max(0, int(mi[3] - 2 * self.s))\n",
    "        y_start = max(0, int(mi[4] - 2 * self.s))    \n",
    "        x_stop = min(int(mi[3] + 2 * self.s), self.img.shape[0])\n",
    "        y_stop = min(int(mi[4] + 2 * self.s), self.img.shape[1])     \n",
    "        for i in range(x_start, x_stop):\n",
    "            for j in range(y_start, y_stop):\n",
    "                r, g, b = self.img[i, j, :3]\n",
    "                v = [r,g,b,i,j]\n",
    "                d = self._calculate_distance(mi, v, self.s)\n",
    "                if d < self.DL.D[i, j]:\n",
    "                    self.DL.D[i, j] = d\n",
    "                    self.DL.L[i, j] = cluster   \n",
    "\n",
    "\n",
    "    def _assign_clusters(self):\n",
    "        for i, v in enumerate(self.m_i):\n",
    "           self._set_neigbors_dist(v, i)\n",
    "        print(\"STEP 2 finished\")\n",
    "\n",
    "\n",
    "    # Step 3\n",
    "    def _find_cluster_coordinates(self, CLUSTER):\n",
    "        # Find the indices where the matrix equals the CLUSTER value\n",
    "        indices = np.argwhere(self.DL.L == CLUSTER)\n",
    "        \n",
    "        # Extract the x, y coordinates from the indices\n",
    "        coordinates = [(index[0], index[1]) for index in indices]\n",
    "        \n",
    "        return coordinates\n",
    "\n",
    "    def _update_mi(self):\n",
    "        test_convergence = []\n",
    "        for i, v in enumerate(self.m_i): \n",
    "            relevent_cords = self._find_cluster_coordinates(i)\n",
    "            c_i = len(relevent_cords)\n",
    "            t = np.copy(v)\n",
    "            t[:] = 0\n",
    "            for z in relevent_cords:\n",
    "                t[:3] += self.img[z[0], z[1], :3]\n",
    "                t[3:] += z\n",
    "            t /= c_i\n",
    "            test_convergence.append(np.linalg.norm(v-t))\n",
    "        print(\"STEP 3 finished\")\n",
    "        self.test_convergence = np.array(test_convergence) \n",
    "\n",
    "    def __call__(self):\n",
    "        self.m_i = self._initialize_algo()\n",
    "        # self._assign_clusters()\n",
    "        # self._update_mi()\n",
    "        # while np.sum(self.test_convergence) < self.threshold:\n",
    "        #     self._assign_clusters()\n",
    "        #     self._update_mi()\n",
    "        # return self.DL.L\n",
    "        "
   ]
  },
  {
   "cell_type": "code",
   "execution_count": 3,
   "metadata": {},
   "outputs": [],
   "source": [
    "img = imread(\"totem.png\")\n",
    "sup = Superpixels(img, 500)\n",
    "sup()"
   ]
  },
  {
   "cell_type": "code",
   "execution_count": 4,
   "metadata": {},
   "outputs": [],
   "source": [
    "sup._assign_clusters()"
   ]
  },
  {
   "cell_type": "code",
   "execution_count": 10,
   "metadata": {},
   "outputs": [
    {
     "name": "stdout",
     "output_type": "stream",
     "text": [
      "STEP 3 finished\n"
     ]
    },
    {
     "ename": "KeyboardInterrupt",
     "evalue": "",
     "output_type": "error",
     "traceback": [
      "\u001b[1;31m---------------------------------------------------------------------------\u001b[0m",
      "\u001b[1;31mKeyboardInterrupt\u001b[0m                         Traceback (most recent call last)",
      "Cell \u001b[1;32mIn[10], line 3\u001b[0m\n\u001b[0;32m      1\u001b[0m sup\u001b[39m.\u001b[39m_update_mi()\n\u001b[0;32m      2\u001b[0m \u001b[39mwhile\u001b[39;00m np\u001b[39m.\u001b[39msum(sup\u001b[39m.\u001b[39mtest_convergence) \u001b[39m>\u001b[39m sup\u001b[39m.\u001b[39mthreshold:\n\u001b[1;32m----> 3\u001b[0m     sup\u001b[39m.\u001b[39;49m_assign_clusters()\n\u001b[0;32m      4\u001b[0m     sup\u001b[39m.\u001b[39m_update_mi()\n",
      "Cell \u001b[1;32mIn[2], line 91\u001b[0m, in \u001b[0;36mSuperpixels._assign_clusters\u001b[1;34m(self)\u001b[0m\n\u001b[0;32m     89\u001b[0m \u001b[39mdef\u001b[39;00m \u001b[39m_assign_clusters\u001b[39m(\u001b[39mself\u001b[39m):\n\u001b[0;32m     90\u001b[0m     \u001b[39mfor\u001b[39;00m i, v \u001b[39min\u001b[39;00m \u001b[39menumerate\u001b[39m(\u001b[39mself\u001b[39m\u001b[39m.\u001b[39mm_i):\n\u001b[1;32m---> 91\u001b[0m        \u001b[39mself\u001b[39;49m\u001b[39m.\u001b[39;49m_set_neigbors_dist(v, i)\n\u001b[0;32m     92\u001b[0m     \u001b[39mprint\u001b[39m(\u001b[39m\"\u001b[39m\u001b[39mSTEP 2 finished\u001b[39m\u001b[39m\"\u001b[39m)\n",
      "Cell \u001b[1;32mIn[2], line 83\u001b[0m, in \u001b[0;36mSuperpixels._set_neigbors_dist\u001b[1;34m(self, mi, cluster)\u001b[0m\n\u001b[0;32m     81\u001b[0m r, g, b \u001b[39m=\u001b[39m \u001b[39mself\u001b[39m\u001b[39m.\u001b[39mimg[i, j, :\u001b[39m3\u001b[39m]\n\u001b[0;32m     82\u001b[0m v \u001b[39m=\u001b[39m [r,g,b,i,j]\n\u001b[1;32m---> 83\u001b[0m d \u001b[39m=\u001b[39m \u001b[39mself\u001b[39;49m\u001b[39m.\u001b[39;49m_calculate_distance(mi, v, \u001b[39mself\u001b[39;49m\u001b[39m.\u001b[39;49ms)\n\u001b[0;32m     84\u001b[0m \u001b[39mif\u001b[39;00m d \u001b[39m<\u001b[39m \u001b[39mself\u001b[39m\u001b[39m.\u001b[39mDL\u001b[39m.\u001b[39mD[i, j]:\n\u001b[0;32m     85\u001b[0m     \u001b[39mself\u001b[39m\u001b[39m.\u001b[39mDL\u001b[39m.\u001b[39mD[i, j] \u001b[39m=\u001b[39m d\n",
      "\u001b[1;31mKeyboardInterrupt\u001b[0m: "
     ]
    }
   ],
   "source": [
    "sup._update_mi()\n",
    "while np.sum(sup.test_convergence) > sup.threshold:\n",
    "    sup._assign_clusters()\n",
    "    sup._update_mi()"
   ]
  },
  {
   "cell_type": "code",
   "execution_count": 9,
   "metadata": {},
   "outputs": [
    {
     "data": {
      "text/plain": [
       "10"
      ]
     },
     "execution_count": 9,
     "metadata": {},
     "output_type": "execute_result"
    }
   ],
   "source": []
  }
 ],
 "metadata": {
  "kernelspec": {
   "display_name": "dataScienceIntro",
   "language": "python",
   "name": "python3"
  },
  "language_info": {
   "codemirror_mode": {
    "name": "ipython",
    "version": 3
   },
   "file_extension": ".py",
   "mimetype": "text/x-python",
   "name": "python",
   "nbconvert_exporter": "python",
   "pygments_lexer": "ipython3",
   "version": "3.10.4"
  },
  "orig_nbformat": 4
 },
 "nbformat": 4,
 "nbformat_minor": 2
}
